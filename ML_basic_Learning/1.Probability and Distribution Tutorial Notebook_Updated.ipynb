{
 "cells": [
  {
   "cell_type": "markdown",
   "metadata": {},
   "source": [
    "# Probability and Distribution"
   ]
  },
  {
   "cell_type": "markdown",
   "metadata": {},
   "source": [
    "## Imports"
   ]
  },
  {
   "cell_type": "code",
   "execution_count": 4,
   "metadata": {},
   "outputs": [],
   "source": [
    "from IPython.core.pylabtools import figsize\n",
    "import numpy as np\n",
    "from matplotlib import pyplot as plt\n",
    "import seaborn as sns\n",
    "import scipy.stats as stats\n",
    "from fractions import Fraction\n",
    "figsize(6,5)"
   ]
  },
  {
   "cell_type": "markdown",
   "metadata": {},
   "source": [
    "### Code for P\n",
    "P is the traditional name for the Probability function:"
   ]
  },
  {
   "cell_type": "code",
   "execution_count": 5,
   "metadata": {},
   "outputs": [],
   "source": [
    "def P(event, space): \n",
    "    \"The probability of an event, given a sample space of equiprobable outcomes.\"\n",
    "    return Fraction(len(event & space), \n",
    "                    len(space))"
   ]
  },
  {
   "cell_type": "markdown",
   "metadata": {},
   "source": [
    "### Warm-up Problem: Die Roll\n",
    "\n",
    "What's the probability of rolling an even number with a single six-sided fair die?We can define the sample space D and the event even, and compute the probability."
   ]
  },
  {
   "cell_type": "code",
   "execution_count": 6,
   "metadata": {},
   "outputs": [
    {
     "data": {
      "text/plain": [
       "Fraction(1, 2)"
      ]
     },
     "execution_count": 6,
     "metadata": {},
     "output_type": "execute_result"
    }
   ],
   "source": [
    "D    = {1, 2, 3, 4, 5, 6}\n",
    "even = {   2,    4,    6}\n",
    "\n",
    "P(even, D)"
   ]
  },
  {
   "cell_type": "markdown",
   "metadata": {},
   "source": [
    "Above, we have calculated a proportion, not a probability. As a proxy for the probability, we can simulate drawing random samples from the data and calculate the proportion (commonly referred to as [hacker statistics](https://speakerdeck.com/jakevdp/statistics-for-hackers)):"
   ]
  },
  {
   "cell_type": "markdown",
   "metadata": {},
   "source": [
    "## 2. Simulating probabilities\n",
    "\n",
    "### Coin Toss Example\n",
    "\n",
    "You toss a coin 30 times and see head 24 times. Is it a fair coin?\n",
    "\n",
    "**What is the probability of getting 24 heads in 30 tosses ?**\n",
    "\n",
    "It is the probability of getting heads 24 times or more. "
   ]
  },
  {
   "cell_type": "code",
   "execution_count": 9,
   "metadata": {},
   "outputs": [
    {
     "name": "stdout",
     "output_type": "stream",
     "text": [
      "Data of the Experiment: [0 1 1 0 0 1 1 0 0 1 0 1 0 0 0 1 0 0 1 0 0 1 0 1 0 0 0 0 0 1]\n",
      "Heads in the Experiment: [1 1 1 1 1 1 1 1 1 1 1]\n",
      "Number of heads in the experiment: 11\n"
     ]
    }
   ],
   "source": [
    "total_tosses = 30\n",
    "num_heads = 24\n",
    "prob_head = 0.5\n",
    "\n",
    "#0 is tail. 1 is heads. Generate one experiment\n",
    "experiment = np.random.randint(0,2,total_tosses)\n",
    "print(\"Data of the Experiment:\", experiment)\n",
    "#Find the number of heads\n",
    "print(\"Heads in the Experiment:\", experiment[experiment==1])  #This will give all the heads in the array\n",
    "head_count = experiment[experiment==1].shape[0] #This will get the count of heads in the array\n",
    "print(\"Number of heads in the experiment:\", head_count)"
   ]
  },
  {
   "cell_type": "markdown",
   "metadata": {},
   "source": [
    "### Simulating many times to get the distribution\n",
    "\n",
    "In the above, we have simulated the scenario once. But this only tells us one potential outcome. To see how likely it is to get 24 heads, we need to simulate it a lot of times and check what proportions ended up with 24 heads.\n",
    "\n",
    "Run the experiment 100,000 times. Find the percentage of times the experiment returned 24 or more heads. If it is more than 5%, we conclude that the coin is biased."
   ]
  },
  {
   "cell_type": "code",
   "execution_count": 11,
   "metadata": {},
   "outputs": [],
   "source": [
    "#Now, the above experiment of flipping coin 30 times needs to be repeated 100 times. \n",
    "def coin_toss_experiment(times_to_repeat):\n",
    "    head_count = np.empty([times_to_repeat,1], dtype=int)\n",
    "    for times in np.arange(times_to_repeat):\n",
    "        experiment = np.random.randint(0,2,total_tosses)\n",
    "        head_count[times] = experiment[experiment==1].shape[0]\n",
    "    return head_count"
   ]
  },
  {
   "cell_type": "code",
   "execution_count": 6,
   "metadata": {},
   "outputs": [
    {
     "name": "stdout",
     "output_type": "stream",
     "text": [
      "Number of heads in first 10 experiments: [[15]\n",
      " [11]\n",
      " [18]\n",
      " [15]\n",
      " [16]\n",
      " [18]\n",
      " [15]\n",
      " [13]\n",
      " [18]\n",
      " [16]]\n"
     ]
    },
    {
     "data": {
      "image/png": "[encoded data removed]",
      "text/plain": [
       "<Figure size 432x288 with 1 Axes>"
      ]
     },
     "metadata": {},
     "output_type": "display_data"
    }
   ],
   "source": [
    "head_count = coin_toss_experiment(100)\n",
    "print('Number of heads in first 10 experiments:',head_count[:10])\n",
    "plt.hist(head_count)\n",
    "plt.show()"
   ]
  },
  {
   "cell_type": "markdown",
   "metadata": {},
   "source": [
    "Let's use the binomial distribution to answer the same question as above for fair and biased coin:\n",
    "* If P(heads) = 0.5 (fair coin) and you flip the coin 30 times, how many heads will come up?\n",
    "* If P(heads) = 0.7 (biased coin) and you flip the coin 30 times, how many heads will come up?"
   ]
  },
  {
   "cell_type": "code",
   "execution_count": 12,
   "metadata": {},
   "outputs": [
    {
     "name": "stdout",
     "output_type": "stream",
     "text": [
      "Number of heads in the experiment with fair coin: 15\n",
      "Number of heads in the experiment with biased coin: 24\n"
     ]
    }
   ],
   "source": [
    "# Set seed for reproducible results\n",
    "np.random.seed(seed=602)\n",
    "# Simulate one run of flipping the fair coin 30 times\n",
    "print(\"Number of heads in the experiment with fair coin:\",np.random.binomial(30, 0.5))\n",
    "# Simulate one run of flipping the biased coin 30 times\n",
    "print(\"Number of heads in the experiment with biased coin:\", np.random.binomial(30, 0.7))"
   ]
  },
  {
   "cell_type": "markdown",
   "metadata": {},
   "source": [
    "### Simulate again many times to get the distribution"
   ]
  },
  {
   "cell_type": "code",
   "execution_count": 13,
   "metadata": {},
   "outputs": [
    {
     "data": {
      "image/png": "[encoded data removed]",
      "text/plain": [
       "<Figure size 432x360 with 1 Axes>"
      ]
     },
     "metadata": {},
     "output_type": "display_data"
    },
    {
     "data": {
      "image/png": "[encoded data removed]",
      "text/plain": [
       "<Figure size 432x360 with 1 Axes>"
      ]
     },
     "metadata": {},
     "output_type": "display_data"
    }
   ],
   "source": [
    "# Simulate 1,000 run of flipping the biased coin 10 times\n",
    "x = np.random.binomial(30, 0.7, 10000)\n",
    "# Plot normalized histogram of results\n",
    "plt.hist(x, density=True, bins=np.arange(1,31,2))\n",
    "plt.title('Biased Coin Distribution')\n",
    "plt.show()\n",
    "# Plot histogram \n",
    "x = np.random.binomial(30, 0.5, 10000)\n",
    "plt.title('Fair Coin Distribution')\n",
    "plt.hist(x, density=True,bins=np.arange(1,31,2))\n",
    "plt.show()"
   ]
  },
  {
   "cell_type": "markdown",
   "metadata": {},
   "source": [
    "##  Conditional Probability\n"
   ]
  },
  {
   "cell_type": "markdown",
   "metadata": {},
   "source": [
    "Now that we have a grasp on joint probabilities, lets consider conditional probabilities, that is, the probability of some $A$, knowing that some other $B$ is true. We use the notation $P(A|B)$ to denote this. For example, you can ask the question \"What is the probability of a cactus length $<10$, knowing that the cactus species is 'saguaro'?\"\n",
    "\n",
    "#### Example: conditional probability and joint probability\n",
    "1. What is the probability of a cactus length > 10 ?\n",
    "2. What is the probability of a cactus length > 10 and Cactus is 'Golden barrel'?\n",
    "3. What is the probability of a cactus length > 10 if we know it is 'Golden barrel'?\n"
   ]
  },
  {
   "cell_type": "markdown",
   "metadata": {},
   "source": [
    "Event : \n",
    "       A =  Length\n",
    "       B =  Cactus Type"
   ]
  },
  {
   "cell_type": "code",
   "execution_count": 14,
   "metadata": {},
   "outputs": [
    {
     "data": {
      "text/plain": [
       "(100, 2)"
      ]
     },
     "execution_count": 14,
     "metadata": {},
     "output_type": "execute_result"
    }
   ],
   "source": [
    "import pandas as pd\n",
    "cactus_length = pd.DataFrame({'Cactus':np.random.choice(['Saguaro','Golden barrel'], 100),\n",
    "                              'Length':np.random.randint(5,30,100)})\n",
    "cactus_length.shape"
   ]
  },
  {
   "cell_type": "markdown",
   "metadata": {},
   "source": [
    "- What is the probability of a cactus length > 10 ?"
   ]
  },
  {
   "cell_type": "code",
   "execution_count": 15,
   "metadata": {},
   "outputs": [
    {
     "data": {
      "text/plain": [
       "0.7"
      ]
     },
     "execution_count": 15,
     "metadata": {},
     "output_type": "execute_result"
    }
   ],
   "source": [
    "sum(cactus_length.Length > 10)/len(cactus_length)"
   ]
  },
  {
   "cell_type": "markdown",
   "metadata": {},
   "source": [
    "- What is the probability of a cactus length > 10 and Cactus is 'Golden barrel'?"
   ]
  },
  {
   "cell_type": "code",
   "execution_count": 16,
   "metadata": {},
   "outputs": [
    {
     "data": {
      "text/plain": [
       "0.37"
      ]
     },
     "execution_count": 16,
     "metadata": {},
     "output_type": "execute_result"
    }
   ],
   "source": [
    "cactus_length.loc[(cactus_length['Cactus'] == 'Golden barrel') & (cactus_length['Length'] >10)].shape[0]/len(cactus_length)"
   ]
  },
  {
   "cell_type": "markdown",
   "metadata": {},
   "source": [
    "- What is the probability of a cactus length > 10 if we know it is 'Golden barrel'?"
   ]
  },
  {
   "cell_type": "code",
   "execution_count": 17,
   "metadata": {},
   "outputs": [
    {
     "name": "stdout",
     "output_type": "stream",
     "text": [
      "0.6727272727272727\n"
     ]
    }
   ],
   "source": [
    "X = cactus_length.loc[(cactus_length['Cactus'] == 'Golden barrel') & (cactus_length['Length'] >10)].shape[0]\n",
    "Y = cactus_length.loc[cactus_length['Cactus'] == 'Golden barrel'].shape[0]\n",
    "print(X/Y)"
   ]
  },
  {
   "cell_type": "code",
   "execution_count": 18,
   "metadata": {},
   "outputs": [
    {
     "data": {
      "text/plain": [
       "0.6727272727272727"
      ]
     },
     "execution_count": 18,
     "metadata": {},
     "output_type": "execute_result"
    }
   ],
   "source": [
    "# Alternative Way\n",
    "cactus_length_gb = cactus_length.loc[cactus_length['Cactus'] == 'Golden barrel']\n",
    "sum(cactus_length_gb.Length > 10)/len(cactus_length_gb)"
   ]
  },
  {
   "cell_type": "markdown",
   "metadata": {},
   "source": [
    "## 4. Probability Distributions"
   ]
  },
  {
   "cell_type": "markdown",
   "metadata": {},
   "source": [
    "## Discrete Distributions"
   ]
  },
  {
   "cell_type": "markdown",
   "metadata": {},
   "source": [
    "### Binomial Distribution\n",
    "\n",
    "We have discussed **binomial distribution** already above but let's look at it again. It is derived from bernoulli's trial.\n",
    "- Bernoulli trial (or binomial trial): random experiment with 2 possible outcomes\n",
    "- a binomial distribution describes a binomial variable $B(n, p)$ of \n",
    "*n* of Bernoulli trials (which are statistically independent); *p* is the probability of success (and *q* is the probability of failure, 1-*p*)\n",
    "- Probability of *k* successes:\n",
    "\n",
    "$$P(k) = \\binom{n}{k} p^k q^{n-k}$$\n",
    "\n",
    "where $\\binom{n}{k}$ (\"*n choose k*\") is the binomial coefficient\n",
    "\n",
    "$$\\binom{n}{k} = \\frac{n!}{k!(n-k)!}$$"
   ]
  },
  {
   "cell_type": "code",
   "execution_count": 19,
   "metadata": {},
   "outputs": [
    {
     "name": "stderr",
     "output_type": "stream",
     "text": [
      "C:\\ProgramData\\Anaconda3\\lib\\site-packages\\matplotlib\\axes\\_axes.py:6462: UserWarning: The 'normed' kwarg is deprecated, and has been replaced by the 'density' kwarg.\n",
      "  warnings.warn(\"The 'normed' kwarg is deprecated, and has been \"\n"
     ]
    },
    {
     "data": {
      "text/plain": [
       "[Text(0,0.5,'Frequency'), Text(0.5,0,'Binomial Distribution')]"
      ]
     },
     "execution_count": 19,
     "metadata": {},
     "output_type": "execute_result"
    },
    {
     "data": {
      "image/png": "[encoded data removed]",
      "text/plain": [
       "<Figure size 432x360 with 1 Axes>"
      ]
     },
     "metadata": {},
     "output_type": "display_data"
    }
   ],
   "source": [
    "import seaborn as sb\n",
    "from scipy.stats import binom\n",
    "data_binom = binom.rvs(n=10,p=0.8,size=10000)\n",
    "#print(data_binom)\n",
    "ax = sns.distplot(data_binom,kde=False,color='blue',hist_kws={\"linewidth\": 25,\"alpha\":1}) \n",
    "ax.set(xlabel='Binomial Distribution', ylabel='Frequency')"
   ]
  },
  {
   "cell_type": "markdown",
   "metadata": {},
   "source": [
    "## Continuous Distribution"
   ]
  },
  {
   "cell_type": "markdown",
   "metadata": {},
   "source": [
    "### Normal Distribution\n",
    "\n",
    "<p>Normal Distribution, also known as Gaussian distribution, is ubiquitous in Data Science. You will encounter it at many places especially in topics of statistical inference. It is one of the assumptions of many data science algorithms too.</p>\n",
    "<p>A normal distribution has a bell-shaped density curve described by its mean $μ$ and standard deviation $σ$. The density curve is symmetrical, centered about its mean, with its spread determined by its standard deviation showing that data near the mean are more frequent in occurrence than data far from the mean. The probability distribution function of a normal density curve with mean $μ$ and standard deviation $σ$ at a given point $x$ is given by:</p>\n",
    "\n",
    "$$f(x \\mid \\mu, \\sigma^2) = \\frac{1}{\\sqrt{2\\pi\\sigma^2}} \\; \\exp\\bigg(-\\frac{(x-\\mu)^2}{2\\sigma^2}\\bigg)$$\n",
    "\n",
    "Properties of Normal of Distribution:\n",
    "- unimodal and symmetric\n",
    "- two parameters: mean (center of the peak) and standard deviation (spread); $N(\\mu, \\sigma)$\n",
    "- we can estimate parameters of $N(\\mu, \\sigma^2)$ by sample mean ($\\bar{x})$ and sample variance ($s^2$)\n",
    "\n",
    "<p>Below is the figure describing what the distribution looks like:</p>\n",
    "<p><center><img src=\"https://res.cloudinary.com/dyd911kmh/image/upload/f_auto,q_auto:best/v1539784816/output_17_0_rlgbfo.png\" /></center></p>\n",
    "<p>Almost 68% of the data falls within a distance of one standard deviation from the mean on either side and 95% within two standard deviations. Also it worth mentioning that a distribution with mean $0$ and standard deviation $1$ is called a <strong>standard normal distribution</strong>.</p>"
   ]
  },
  {
   "cell_type": "code",
   "execution_count": 20,
   "metadata": {},
   "outputs": [
    {
     "name": "stderr",
     "output_type": "stream",
     "text": [
      "C:\\ProgramData\\Anaconda3\\lib\\site-packages\\matplotlib\\axes\\_axes.py:6462: UserWarning: The 'normed' kwarg is deprecated, and has been replaced by the 'density' kwarg.\n",
      "  warnings.warn(\"The 'normed' kwarg is deprecated, and has been \"\n"
     ]
    },
    {
     "data": {
      "text/plain": [
       "[Text(0,0.5,'Frequency'), Text(0.5,0,'Normal Distribution')]"
      ]
     },
     "execution_count": 20,
     "metadata": {},
     "output_type": "execute_result"
    },
    {
     "data": {
      "image/png": "[encoded data removed]",
      "text/plain": [
       "<Figure size 432x360 with 1 Axes>"
      ]
     },
     "metadata": {},
     "output_type": "display_data"
    }
   ],
   "source": [
    "from scipy.stats import norm\n",
    "# generate random numbers from N(0,1)\n",
    "data_normal = norm.rvs(size=10000,loc=0,scale=2)\n",
    "ax = sns.distplot(data_normal,\n",
    "                  bins=100,\n",
    "                  kde=False,\n",
    "                  color='skyblue',\n",
    "                  hist_kws={\"linewidth\": 15,'alpha':1})\n",
    "ax.set(xlabel='Normal Distribution', ylabel='Frequency')"
   ]
  },
  {
   "cell_type": "markdown",
   "metadata": {},
   "source": [
    "**Standard normal distribution with zero mean and unit variance, $N(0, 1)$:**"
   ]
  },
  {
   "cell_type": "markdown",
   "metadata": {},
   "source": [
    "## External Links for deep dive:\n",
    "https://www.khanacademy.org/math/statistics-probability/probability-library\n",
    "\n",
    "https://www.khanacademy.org/math/statistics-probability\n",
    "\n",
    "https://www.khanacademy.org/math/ap-statistics/probability-ap/stats-conditional-probability/v/bayes-theorem-visualized\n",
    "\n",
    "https://www.datascience.com/blog/introduction-to-bayesian-inference-learn-data-science-tutorials\n",
    "\n",
    "https://en.wikipedia.org/wiki/Bayes%27_theorem\n",
    "    \n",
    "https://nbviewer.jupyter.org/github/CamDavidsonPilon/Probabilistic-Programming-and-Bayesian-Methods-for-Hackers/blob/master/Chapter1_Introduction/Ch1_Introduction_PyMC3.ipynb"
   ]
  }
 ],
 "metadata": {
  "kernelspec": {
   "display_name": "Python 3",
   "language": "python",
   "name": "python3"
  },
  "language_info": {
   "codemirror_mode": {
    "name": "ipython",
    "version": 3
   },
   "file_extension": ".py",
   "mimetype": "text/x-python",
   "name": "python",
   "nbconvert_exporter": "python",
   "pygments_lexer": "ipython3",
   "version": "3.6.5"
  }
 },
 "nbformat": 4,
 "nbformat_minor": 2
}
