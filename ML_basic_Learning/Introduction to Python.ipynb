{
 "cells": [
  {
   "cell_type": "markdown",
   "metadata": {},
   "source": [
    "# Introduction to Python"
   ]
  },
  {
   "cell_type": "markdown",
   "metadata": {},
   "source": [
    "Reference : https://docs.python.org/3/tutorial/index.html"
   ]
  },
  {
   "cell_type": "code",
   "execution_count": 3,
   "metadata": {},
   "outputs": [
    {
     "name": "stdout",
     "output_type": "stream",
     "text": [
      "Hello world!\n",
      "Hello world!\n",
      "\"Hello world!\".\n",
      "\n"
     ]
    }
   ],
   "source": [
    "print (\"Hello world!\")\n",
    "print ('Hello world!')\n",
    "# with special characters\n",
    "print (\"\\\"Hello world!\\\".\")\n",
    "print()"
   ]
  },
  {
   "cell_type": "code",
   "execution_count": 4,
   "metadata": {},
   "outputs": [
    {
     "name": "stdout",
     "output_type": "stream",
     "text": [
      "I'm learning Python. And we're starting with the Print Statements.\n",
      "I'm learning Python.\n",
      "And we're starting with the Print Statements.\n"
     ]
    }
   ],
   "source": [
    "print (\"I'm learning Python. \\\n",
    "And we're starting with the Print Statements.\")\n",
    "# Print in separate lines without multiple print statements\n",
    "print (\"\"\"I'm learning Python.\n",
    "And we're starting with the Print Statements.\"\"\")"
   ]
  },
  {
   "cell_type": "code",
   "execution_count": 5,
   "metadata": {},
   "outputs": [
    {
     "name": "stdout",
     "output_type": "stream",
     "text": [
      "We'll first learn how to Print...Then we'll learn how to comment code.\n",
      "Can you hear me now...Can you hear me now... Can you hear me now...\n"
     ]
    }
   ],
   "source": [
    "print (\"We'll first learn how to Print.\", end='..')\n",
    "print (\"Then we'll learn how to comment code.\")\n",
    "print (\"Can you hear me now...\" + \"Can you hear me now... \" + \"Can you hear me now...\")"
   ]
  },
  {
   "cell_type": "markdown",
   "metadata": {},
   "source": [
    "### Variables"
   ]
  },
  {
   "cell_type": "code",
   "execution_count": 6,
   "metadata": {},
   "outputs": [
    {
     "name": "stdout",
     "output_type": "stream",
     "text": [
      "I have Apples and Oranges ... I have 10 Apples and 20 Oranges\n"
     ]
    }
   ],
   "source": [
    "fruits = \"Apples and Oranges\"\n",
    "numApples = 10\n",
    "numOranges = 20\n",
    "print (\"I have\", fruits, \"... I have\", numApples, \"Apples and\", numOranges, \"Oranges\")"
   ]
  },
  {
   "cell_type": "markdown",
   "metadata": {},
   "source": [
    "### Number Operations"
   ]
  },
  {
   "cell_type": "code",
   "execution_count": 7,
   "metadata": {},
   "outputs": [
    {
     "name": "stdout",
     "output_type": "stream",
     "text": [
      "Power operator: **\n",
      "2**4 =  16\n",
      "-3**2 =  -9\n"
     ]
    }
   ],
   "source": [
    "print (\"Power operator: **\")\n",
    "print (\"2**4 = \", 2**4)\n",
    "print (\"-3**2 = \", -3**2)"
   ]
  },
  {
   "cell_type": "code",
   "execution_count": 8,
   "metadata": {},
   "outputs": [
    {
     "name": "stdout",
     "output_type": "stream",
     "text": [
      "Binary operators: + - * / % //\n",
      "The Floor operator // yields the quotient: 13.5//2 =  6.0\n",
      "The modulo operator % yeilds the remainder: 13.5%2 =  1.5\n"
     ]
    }
   ],
   "source": [
    "print (\"Binary operators: + - * / % //\")\n",
    "print (\"The Floor operator // yields the quotient: 13.5//2 = \", 13.5//2)\n",
    "print (\"The modulo operator % yeilds the remainder: 13.5%2 = \", 13.5%2)"
   ]
  },
  {
   "cell_type": "code",
   "execution_count": 9,
   "metadata": {},
   "outputs": [
    {
     "name": "stdout",
     "output_type": "stream",
     "text": [
      "Binary bitwise operators: | & ^\n",
      "3 | 0 =  3\n",
      "3 ^ 3 =  0\n",
      "3 & 0 =  0\n"
     ]
    }
   ],
   "source": [
    "print (\"Binary bitwise operators: | & ^\")\n",
    "print (\"3 | 0 = \", 3 | 0)\n",
    "print (\"3 ^ 3 = \", 3 ^ 3)\n",
    "print (\"3 & 0 = \", 3 & 0)"
   ]
  },
  {
   "cell_type": "code",
   "execution_count": 10,
   "metadata": {},
   "outputs": [
    {
     "name": "stdout",
     "output_type": "stream",
     "text": [
      "Comparisons: > >= < <= == in not in\n",
      "5 > 2? True\n",
      "5 == 3? False\n",
      "5 <= 4? False\n",
      "2 in (1, 2, 3)? True\n"
     ]
    }
   ],
   "source": [
    "print (\"Comparisons: > >= < <= == in not in\")\n",
    "print (\"5 > 2?\", 5 > 2)\n",
    "print (\"5 == 3?\", 5 == 3)\n",
    "print (\"5 <= 4?\", 5 <= 4)\n",
    "print (\"2 in (1, 2, 3)?\", 2 in (1, 2, 3))"
   ]
  },
  {
   "cell_type": "code",
   "execution_count": 11,
   "metadata": {},
   "outputs": [
    {
     "name": "stdout",
     "output_type": "stream",
     "text": [
      "1\n",
      "0\n",
      "1\n",
      "8\n",
      "1\n",
      "1.4142135623730951\n"
     ]
    }
   ],
   "source": [
    "# import the math library\n",
    "import math\n",
    "var1 = 2\n",
    "var2 = 3\n",
    "# round(x): round to nearest integer\n",
    "print (round(var1/var2))\n",
    "# floor(x): the largest integer less than or equal to x\n",
    "print (math.floor(var1/var2))\n",
    "# ceil(x): the smallest integer greater than or equal to x\n",
    "print (math.ceil(var1/var2))\n",
    "# pow (x, y): x raised to the power y\n",
    "print (pow(var1, var2))\n",
    "# fabs (x): absolute value of x\n",
    "print (abs(var1 - var2))\n",
    "# sqrt (x): square root of x\n",
    "print (math.sqrt(var1))"
   ]
  },
  {
   "cell_type": "markdown",
   "metadata": {},
   "source": [
    "### String Operations"
   ]
  },
  {
   "cell_type": "code",
   "execution_count": 12,
   "metadata": {},
   "outputs": [
    {
     "name": "stdout",
     "output_type": "stream",
     "text": [
      "left string >  < right string\n",
      "ABC999\n"
     ]
    }
   ],
   "source": [
    "# strings can be concatenated using +\n",
    "print (\"left string > \" + \" < right string\")\n",
    "lstr = \"ABC\"\n",
    "rstr = \"999\"\n",
    "lrstr = lstr + rstr\n",
    "print (lrstr)"
   ]
  },
  {
   "attachments": {
    "image.png": {
     "image/png": "[encoded data removed]"
    }
   },
   "cell_type": "markdown",
   "metadata": {},
   "source": [
    "## Subsetting\n",
    "![image.png](attachment:image.png)"
   ]
  },
  {
   "cell_type": "code",
   "execution_count": 22,
   "metadata": {},
   "outputs": [
    {
     "name": "stdout",
     "output_type": "stream",
     "text": [
      "P\n",
      "y\n",
      "t\n",
      "h\n",
      "o\n",
      "n\n",
      "\n",
      "n\n",
      "o\n",
      "h\n",
      "t\n",
      "y\n",
      "P\n"
     ]
    }
   ],
   "source": [
    "# strings can be counted from the left using +ve indices, starting with 0\n",
    "word = \"Python\"\n",
    "print (word[0])\n",
    "print (word[1])\n",
    "print (word[2])\n",
    "print (word[3])\n",
    "print (word[4])\n",
    "print (word[5])\n",
    "print()\n",
    "# strings can be counted from the right using -ve indices, starting with -1\n",
    "print (word[-1])\n",
    "print (word[-2])\n",
    "print (word[-3])\n",
    "print (word[-4])\n",
    "print (word[-5])\n",
    "print (word[-6])"
   ]
  },
  {
   "cell_type": "code",
   "execution_count": 13,
   "metadata": {},
   "outputs": [
    {
     "ename": "NameError",
     "evalue": "name 'word' is not defined",
     "output_type": "error",
     "traceback": [
      "\u001b[1;31m---------------------------------------------------------------------------\u001b[0m",
      "\u001b[1;31mNameError\u001b[0m                                 Traceback (most recent call last)",
      "\u001b[1;32m<ipython-input-13-99459d5ad3e7>\u001b[0m in \u001b[0;36m<module>\u001b[1;34m()\u001b[0m\n\u001b[0;32m      3\u001b[0m \u001b[1;31m# - startIndx must be < endIndx, else empty string is returned\u001b[0m\u001b[1;33m\u001b[0m\u001b[1;33m\u001b[0m\u001b[0m\n\u001b[0;32m      4\u001b[0m \u001b[1;31m# - if a slice index is out of range, python will go as far as it can\u001b[0m\u001b[1;33m\u001b[0m\u001b[1;33m\u001b[0m\u001b[0m\n\u001b[1;32m----> 5\u001b[1;33m \u001b[0mprint\u001b[0m \u001b[1;33m(\u001b[0m\u001b[0mword\u001b[0m\u001b[1;33m[\u001b[0m\u001b[1;36m0\u001b[0m\u001b[1;33m:\u001b[0m\u001b[1;36m2\u001b[0m\u001b[1;33m]\u001b[0m\u001b[1;33m)\u001b[0m\u001b[1;33m\u001b[0m\u001b[0m\n\u001b[0m\u001b[0;32m      6\u001b[0m \u001b[0mprint\u001b[0m \u001b[1;33m(\u001b[0m\u001b[0mword\u001b[0m\u001b[1;33m[\u001b[0m\u001b[1;36m2\u001b[0m\u001b[1;33m:\u001b[0m\u001b[1;36m10\u001b[0m\u001b[1;33m]\u001b[0m\u001b[1;33m)\u001b[0m\u001b[1;33m\u001b[0m\u001b[0m\n\u001b[0;32m      7\u001b[0m \u001b[0mprint\u001b[0m \u001b[1;33m(\u001b[0m\u001b[0mword\u001b[0m\u001b[1;33m[\u001b[0m\u001b[1;33m-\u001b[0m\u001b[1;36m3\u001b[0m\u001b[1;33m:\u001b[0m\u001b[1;33m-\u001b[0m\u001b[1;36m2\u001b[0m\u001b[1;33m]\u001b[0m\u001b[1;33m)\u001b[0m\u001b[1;33m\u001b[0m\u001b[0m\n",
      "\u001b[1;31mNameError\u001b[0m: name 'word' is not defined"
     ]
    }
   ],
   "source": [
    "# strings can be sliced with [startIndx:endIndx]:\n",
    "# - startIndx is included and endIndx is excluded\n",
    "# - startIndx must be < endIndx, else empty string is returned\n",
    "# - if a slice index is out of range, python will go as far as it can\n",
    "print (word[0:2])\n",
    "print (word[2:10])\n",
    "print (word[-3:-2])\n",
    "print(word[:2])\n",
    "print(word[4:])\n",
    "\n",
    "# Python strings cannot be changed — they are immutable\n",
    "# attempting to assign to an index position will result in an error\n",
    "#word[0] = 'J'\n",
    "# if you need a different string, you should just create a new one\n",
    "newword = 'J' + word[1:]\n",
    "print (newword)"
   ]
  },
  {
   "cell_type": "code",
   "execution_count": 14,
   "metadata": {},
   "outputs": [
    {
     "name": "stdout",
     "output_type": "stream",
     "text": [
      "6\n",
      "True\n",
      "2\n",
      "True\n",
      "False\n",
      "python\n",
      "PYTHON\n",
      "p y t h o n\n",
      "['1', ' 2', ' 3', ' 4', ' 5']\n",
      "john,jane,sandra,mike,scott\n",
      "['there ', ' are ', ' four ', ' lines']\n"
     ]
    }
   ],
   "source": [
    "# the Python standard library provides many different methods to manipulate srtings\n",
    "# https://docs.python.org/3/library/stdtypes.html#string-methods\n",
    "# below are ones that are most frequently used\n",
    "# length of string\n",
    "print (len('Python'))\n",
    "print ('th' in 'Python')  # check if substring is in string\n",
    "print ('Python'.find('th')) # find index of substring in string\n",
    "print ('Python'.startswith('Py')) # check if string start with substring\n",
    "print ('Python'.endswith('Py')) # check if string ends with substring\n",
    "print ('PYTHON'.lower())   # convert string to lowercase\n",
    "print ('python'.upper())   #  convert string to upppercase\n",
    "print (' p y t h o n '.strip()) # remove leading and trailing blanks\n",
    "print ('1, 2, 3, 4, 5'.split(',')) # split string using specified character as delimiter\n",
    "names = ['john', 'jane', 'sandra', 'mike', 'scott'] # join iterable elements with specified character as delimiter\n",
    "sep = ','\n",
    "print (sep.join(names))\n",
    "print ('there \\n are \\n four \\n lines'.splitlines()) # split string at line feeds and carriage returns"
   ]
  },
  {
   "cell_type": "markdown",
   "metadata": {},
   "source": [
    "### Lists"
   ]
  },
  {
   "cell_type": "code",
   "execution_count": 15,
   "metadata": {},
   "outputs": [
    {
     "name": "stdout",
     "output_type": "stream",
     "text": [
      "listPeople:  ['tom', 'harry', 'jane', 'liz']\n",
      "listFlowers:  ['rose', 'lily', 'tulip', 'lantana']\n",
      "listPets:  ['cat', 'turtle', 'goat', 'dog']\n",
      "listNumFriends:  [21, 33, 10, 51]\n",
      "listAtypical:  [1, 'cat', 69, 567]\n"
     ]
    }
   ],
   "source": [
    "# Lists are mutable sequences, typically used to store collections of homogeneous items\n",
    "# lists are represented by comma-separated items within square brackets\n",
    "# here are examples of some lists\n",
    "listPeople = [\"tom\", \"harry\", \"jane\", \"liz\"]\n",
    "listFlowers = [\"rose\", \"lily\", \"tulip\", \"lantana\"]\n",
    "listPets = ['cat', 'turtle', 'goat', 'dog']\n",
    "listNumFriends = [21, 33, 10, 51]\n",
    "# lists of heterogenous items are not incorrect, just atypical\n",
    "listAtypical = [1, 'cat', 0x45, 567]  # 0x45 UTF-8 encoding for 69\n",
    "# print lists\n",
    "print (\"listPeople: \", listPeople)\n",
    "print (\"listFlowers: \", listFlowers)\n",
    "print (\"listPets: \", listPets)\n",
    "print (\"listNumFriends: \", listNumFriends)\n",
    "print (\"listAtypical: \", listAtypical)"
   ]
  },
  {
   "cell_type": "code",
   "execution_count": 16,
   "metadata": {},
   "outputs": [
    {
     "name": "stdout",
     "output_type": "stream",
     "text": [
      "listConcat ->  ['tom', 'harry', 'jane', 'liz', 'cat', 'turtle', 'goat', 'dog']\n",
      "len(listPeople) ->  4\n",
      "listPeople[2] ->  jane\n",
      "listPeople[-3] ->  harry\n",
      "listPeople[2:] ->  ['jane', 'liz']\n"
     ]
    }
   ],
   "source": [
    "# just like strings, you can do following with lists:\n",
    "# concatenate lists\n",
    "listConcat = listPeople + listPets\n",
    "print (\"listConcat -> \", listConcat)\n",
    "# length of list\n",
    "print (\"len(listPeople) -> \", len(listPeople))\n",
    "# refer to item in list with index\n",
    "print (\"listPeople[2] -> \", listPeople[2])\n",
    "print (\"listPeople[-3] -> \", listPeople[-3])\n",
    "# slice list with [startIndx:endIndx]\n",
    "print (\"listPeople[2:] -> \", listPeople[2:])"
   ]
  },
  {
   "cell_type": "code",
   "execution_count": 17,
   "metadata": {},
   "outputs": [
    {
     "name": "stdout",
     "output_type": "stream",
     "text": [
      "['t-rex', 'turtle', 'goat', 'dog']\n",
      "['python', 'elephant', 'goat', 'dog']\n",
      "['python', 'elephant']\n",
      "['python', 'elephant', 'fox']\n",
      "[]\n"
     ]
    }
   ],
   "source": [
    "# unlike strings, lists are mutable:\n",
    "# assign to an index\n",
    "listPets[0] = 't-rex'\n",
    "print (listPets)\n",
    "# assign to a slice\n",
    "listPets[0:2] = ['python', 'elephant']\n",
    "print (listPets)\n",
    "# delete a slice\n",
    "listPets[2:4] = []\n",
    "print (listPets)\n",
    "# append new items to a list\n",
    "listPets.append('fox')\n",
    "print (listPets)\n",
    "# clear a list by assigning to an empty list\n",
    "listPets[:] = []\n",
    "print (listPets)"
   ]
  },
  {
   "cell_type": "code",
   "execution_count": 18,
   "metadata": {},
   "outputs": [
    {
     "name": "stdout",
     "output_type": "stream",
     "text": [
      "listPeople:  ['tom', 'harry', 'jane', 'liz']\n",
      "listFlowers:  ['rose', 'lily', 'tulip', 'lantana']\n",
      "listNested:  [['tom', 'harry', 'jane', 'liz'], ['rose', 'lily', 'tulip', 'lantana']]\n",
      "listNested[1]:  ['rose', 'lily', 'tulip', 'lantana']\n",
      "listNested[0][1]: harry\n"
     ]
    }
   ],
   "source": [
    "# we can also nest lists\n",
    "listNested = [listPeople, listFlowers]\n",
    "print (\"listPeople: \", listPeople)\n",
    "print (\"listFlowers: \", listFlowers)\n",
    "print (\"listNested: \", listNested)\n",
    "# nested list at index 1 - so essentially listFlowers\n",
    "print (\"listNested[1]: \", listNested[1])\n",
    "# pick item at index 1 of nested list at index 0\n",
    "print (\"listNested[0][1]:\", listNested[0][1])"
   ]
  },
  {
   "cell_type": "code",
   "execution_count": 19,
   "metadata": {},
   "outputs": [
    {
     "name": "stdout",
     "output_type": "stream",
     "text": [
      "lst1:  [100, 200, 300]\n",
      "lst2:  [5, 15, 25]\n",
      "lst3:  [10, 50, 50, 20, 0, 10, 50]\n",
      "lst1 Append:  [100, 200, 300, -400]\n",
      "lst2 Extend:  [5, 15, 25, 100, 200, 300, -400]\n",
      "lst2 Insert at index:  [5, 15, 25, -400, 100, 200, 300, -400]\n",
      "lst2 Remove element:  [5, 15, 25, 100, 200, 300, -400]\n",
      "lst2 delete:  [5, 15, 25, 100, 200, 300]\n",
      "lst2 pop:  [5, 15, 25, 100, 200]\n",
      "Index of an element 1\n",
      "3\n",
      "lst3 Reversed :  [50, 10, 0, 20, 50, 50, 10]\n",
      "lst3 Sorted:  [0, 10, 10, 20, 50, 50, 50]\n",
      "lst3 clear:  []\n"
     ]
    }
   ],
   "source": [
    "# the Python standard library provides many different methods to manipulate lists\n",
    "# https://docs.python.org/3/tutorial/datastructures.html\n",
    "# below are ones that are most frequently used\n",
    "lst1 = [100, 200, 300]\n",
    "lst2 = [5, 15, 25]\n",
    "lst3 = [10, 50, 50, 20, 0, 10, 50]\n",
    "print (\"lst1: \", lst1)\n",
    "print (\"lst2: \", lst2)\n",
    "print (\"lst3: \", lst3)\n",
    "\n",
    "lst1.append(-400)      # Add an item to the end of the list. Equivalent to lst1[len(lst1):] = [-6000]\n",
    "print (\"lst1 Append: \", lst1)\n",
    "\n",
    "lst2.extend(lst1)      # Extend the lst2 by appending all the items in lst1. Equivalent to lst2[len(lst2):] = lst1\n",
    "print (\"lst2 Extend: \", lst2)\n",
    "\n",
    "lst2.insert (3, -400)  # Insert an item at index [3]\n",
    "print (\"lst2 Insert at index: \", lst2)\n",
    "\n",
    "lst2.remove(-400)      # Remove the first item from lst2 whose value is -400.\n",
    "print (\"lst2 Remove element: \", lst2)\n",
    "\n",
    "del lst2[6]            # Remove the item at index [6]\n",
    "print (\"lst2 delete: \", lst2)\n",
    "\n",
    "lst2.pop()             # Remove and returns the last item in the list.\n",
    "print (\"lst2 pop: \", lst2)\n",
    " \n",
    "print ('Index of an element',lst3.index(50))   # Return the index in lst3 of the first item whose value is 50\n",
    "\n",
    "print (lst3.count(50))  # Return the number of times 50 appears in lst3\n",
    "\n",
    "lst3.reverse()          # Reverse the items of lst3 in place.\n",
    "print (\"lst3 Reversed : \", lst3)\n",
    "\n",
    "lst3.sort()              # Sort the items of lst3 in place.\n",
    "print (\"lst3 Sorted: \", lst3)\n",
    "\n",
    "lst3.clear()            # Remove all items from the list\n",
    "print (\"lst3 clear: \", lst3)\n",
    "\n",
    "del lst3               # Delete the list - so now any refrence to the list will be an error\n",
    "#print (\"lst3: \", lst3)"
   ]
  },
  {
   "cell_type": "markdown",
   "metadata": {},
   "source": [
    "### Tuples"
   ]
  },
  {
   "cell_type": "code",
   "execution_count": 20,
   "metadata": {},
   "outputs": [
    {
     "name": "stdout",
     "output_type": "stream",
     "text": [
      "tuple1:  () 0\n",
      "tuple2:  () 0\n",
      "\n",
      "tuple3:  (1,) 1\n",
      "\n",
      "tuple4:  (1, 2, 3) 3\n",
      "tuple4:  1 2 3\n",
      "tuple4[0:2]:  (1, 2)\n",
      "\n",
      "tuple5:  ((1, 2, 3), (4, 5, 6)) 2\n",
      "tuple5[1][2]:  6\n",
      "\n",
      "tuple6:  (1, 2, 3) 3\n"
     ]
    }
   ],
   "source": [
    "# Tuples ()\n",
    "# Tuples are immutable sequences, typically used to store collections of heterogeneous\n",
    "# data, or for cases where an immutable sequence of homogeneous data is needed\n",
    "# declaring empty tuples\n",
    "tuple1 = ()\n",
    "print (\"tuple1: \", tuple1, len(tuple1))\n",
    "tuple2 = tuple ()\n",
    "print (\"tuple2: \", tuple2, len(tuple2))\n",
    "print ()\n",
    "# singleton tuples must have a trailing comma\n",
    "tuple3 = (1,) # tuple3 = (1) will throw a syntax error\n",
    "print (\"tuple3: \", tuple3, len(tuple3))\n",
    "print ()\n",
    "# tuple operations: limited since unlike lists, tuples are immutable\n",
    "tuple4 = (1, 2, 3)\n",
    "# you can get length of tuples just like lists\n",
    "print (\"tuple4: \", tuple4, len(tuple4))\n",
    "# you can index tuples just like lists\n",
    "print (\"tuple4: \", tuple4[0], tuple4[1], tuple4[2])\n",
    "# you can slice tuples just like lists\n",
    "print (\"tuple4[0:2]: \", tuple4[0:2])\n",
    "print ()\n",
    "# you can also nest tuples like lists\n",
    "tuple5 = ((1, 2, 3), (4, 5, 6))\n",
    "print (\"tuple5: \", tuple5, len(tuple5))\n",
    "print (\"tuple5[1][2]: \", tuple5[1][2])\n",
    "print ()\n",
    "# you can convert lists to tuples\n",
    "tuple6 = tuple ([1, 2, 3])\n",
    "print (\"tuple6: \", tuple6, len(tuple6))"
   ]
  },
  {
   "cell_type": "code",
   "execution_count": 58,
   "metadata": {},
   "outputs": [
    {
     "name": "stdout",
     "output_type": "stream",
     "text": [
      "tuple7:  (1, 2, 3, 'aple') 4\n",
      "unpacked tuple7:  1 2 3\n"
     ]
    }
   ],
   "source": [
    "# tuple packing and unpacking\n",
    "# multiple assignment is essentially packing/unpacking in action\n",
    "# tuple packing\n",
    "tuple7 = 1, 2, 3\n",
    "print (\"tuple7: \", tuple7, len(tuple7))\n",
    "# tuple unpacking\n",
    "x, y, z = tuple7\n",
    "print (\"unpacked tuple7: \", x, y, z)"
   ]
  },
  {
   "cell_type": "code",
   "execution_count": null,
   "metadata": {},
   "outputs": [],
   "source": []
  }
 ],
 "metadata": {
  "kernelspec": {
   "display_name": "Python 3",
   "language": "python",
   "name": "python3"
  },
  "language_info": {
   "codemirror_mode": {
    "name": "ipython",
    "version": 3
   },
   "file_extension": ".py",
   "mimetype": "text/x-python",
   "name": "python",
   "nbconvert_exporter": "python",
   "pygments_lexer": "ipython3",
   "version": "3.6.5"
  }
 },
 "nbformat": 4,
 "nbformat_minor": 2
}
